{
 "cells": [
  {
   "cell_type": "markdown",
   "metadata": {},
   "source": [
    "\n",
    "\n",
    "## **Deep Learning in Biomedicine**\n",
    "#### **Final Project:** Classification of Chest X-ray Images and Patient Metadata Using Multi-Modal Model\n",
    "**Team 4**: Alexander Sternfeld, Silvia Romanato and Antoine Bonnet\n",
    "\n",
    "\n",
    "Here is a table with the models we will train:\n",
    "| Model | Vision | Tabular |\n",
    "| --- | --- | --- |\n",
    "| 1 | - | FCN | \n",
    "| 2 | ResNet50 (CNN) | FCN | \n",
    "| 3 | ResNet50 (CNN) | - |\n",
    "| 4 | DenseNet (CNN) | FCN | \n",
    "| 5 | DenseNet (CNN) | - | \n",
    "| 6 | Vision Transformer (ViT) | FCN | \n",
    "| 7 | Vision Transformer (ViT)| - | \n",
    "\n",
    "We use the same fully-connected network (FCN) for all models. \n",
    "\n",
    "### **Some ideas for the encoders**\n",
    "\n",
    "https://github.com/naity/image_tabular \n",
    "\n",
    "<img src=\"../figures/joint_encoders.png\" alt=\"drawing\" width=\"800\"/>\n",
    "\n"
   ]
  },
  {
   "cell_type": "code",
   "execution_count": 1,
   "metadata": {},
   "outputs": [],
   "source": [
    "from data import *\n",
    "from utils import *\n",
    "from models import *\n",
    "\n",
    "import os\n",
    "import torch\n",
    "import torch.nn as nn\n",
    "import torch.nn.functional as F\n",
    "import torch.optim as optim\n",
    "import torch.utils.data as data\n",
    "import torchvision.transforms as transforms\n",
    "import torchvision.models as models\n",
    "import matplotlib.pyplot as plt\n",
    "import numpy as np\n",
    "import pandas as pd\n",
    "import seaborn as sns\n",
    "from torchvision.models import densenet121, DenseNet121_Weights, ResNet50_Weights, resnet50\n",
    "\n",
    "%load_ext autoreload\n",
    "%autoreload 2"
   ]
  },
  {
   "cell_type": "markdown",
   "metadata": {},
   "source": [
    "## 1: **Data**"
   ]
  },
  {
   "cell_type": "code",
   "execution_count": 5,
   "metadata": {},
   "outputs": [
    {
     "data": {
      "text/html": [
       "<div>\n",
       "<style scoped>\n",
       "    .dataframe tbody tr th:only-of-type {\n",
       "        vertical-align: middle;\n",
       "    }\n",
       "\n",
       "    .dataframe tbody tr th {\n",
       "        vertical-align: top;\n",
       "    }\n",
       "\n",
       "    .dataframe thead th {\n",
       "        text-align: right;\n",
       "    }\n",
       "</style>\n",
       "<table border=\"1\" class=\"dataframe\">\n",
       "  <thead>\n",
       "    <tr style=\"text-align: right;\">\n",
       "      <th></th>\n",
       "      <th>dicom_id</th>\n",
       "      <th>subject_id</th>\n",
       "      <th>study_id</th>\n",
       "      <th>PerformedProcedureStepDescription</th>\n",
       "      <th>ViewPosition</th>\n",
       "      <th>Rows</th>\n",
       "      <th>Columns</th>\n",
       "      <th>StudyDate</th>\n",
       "      <th>StudyTime</th>\n",
       "      <th>ProcedureCodeSequence_CodeMeaning</th>\n",
       "      <th>ViewCodeSequence_CodeMeaning</th>\n",
       "      <th>PatientOrientationCodeSequence_CodeMeaning</th>\n",
       "    </tr>\n",
       "  </thead>\n",
       "  <tbody>\n",
       "    <tr>\n",
       "      <th>0</th>\n",
       "      <td>02aa804e-bde0afdd-112c0b34-7bc16630-4e384014</td>\n",
       "      <td>10000032</td>\n",
       "      <td>50414267</td>\n",
       "      <td>CHEST (PA AND LAT)</td>\n",
       "      <td>PA</td>\n",
       "      <td>3056</td>\n",
       "      <td>2544</td>\n",
       "      <td>21800506</td>\n",
       "      <td>213014.531</td>\n",
       "      <td>CHEST (PA AND LAT)</td>\n",
       "      <td>postero-anterior</td>\n",
       "      <td>Erect</td>\n",
       "    </tr>\n",
       "  </tbody>\n",
       "</table>\n",
       "</div>"
      ],
      "text/plain": [
       "                                       dicom_id  subject_id  study_id  \\\n",
       "0  02aa804e-bde0afdd-112c0b34-7bc16630-4e384014    10000032  50414267   \n",
       "\n",
       "  PerformedProcedureStepDescription ViewPosition  Rows  Columns  StudyDate  \\\n",
       "0                CHEST (PA AND LAT)           PA  3056     2544   21800506   \n",
       "\n",
       "    StudyTime ProcedureCodeSequence_CodeMeaning ViewCodeSequence_CodeMeaning  \\\n",
       "0  213014.531                CHEST (PA AND LAT)             postero-anterior   \n",
       "\n",
       "  PatientOrientationCodeSequence_CodeMeaning  \n",
       "0                                      Erect  "
      ]
     },
     "execution_count": 5,
     "metadata": {},
     "output_type": "execute_result"
    }
   ],
   "source": [
    "# Info from the images\n",
    "info_jpg = pd.read_csv('../real_data/mimic-cxr-2.0.0-metadata.csv')\n",
    "info_jpg.head(1)"
   ]
  },
  {
   "cell_type": "code",
   "execution_count": 6,
   "metadata": {},
   "outputs": [
    {
     "data": {
      "text/html": [
       "<div>\n",
       "<style scoped>\n",
       "    .dataframe tbody tr th:only-of-type {\n",
       "        vertical-align: middle;\n",
       "    }\n",
       "\n",
       "    .dataframe tbody tr th {\n",
       "        vertical-align: top;\n",
       "    }\n",
       "\n",
       "    .dataframe thead th {\n",
       "        text-align: right;\n",
       "    }\n",
       "</style>\n",
       "<table border=\"1\" class=\"dataframe\">\n",
       "  <thead>\n",
       "    <tr style=\"text-align: right;\">\n",
       "      <th></th>\n",
       "      <th>subject_id</th>\n",
       "      <th>study_id</th>\n",
       "      <th>Atelectasis</th>\n",
       "      <th>Cardiomegaly</th>\n",
       "      <th>Consolidation</th>\n",
       "      <th>Edema</th>\n",
       "      <th>Enlarged Cardiomediastinum</th>\n",
       "      <th>Fracture</th>\n",
       "      <th>Lung Lesion</th>\n",
       "      <th>Lung Opacity</th>\n",
       "      <th>No Finding</th>\n",
       "      <th>Pleural Effusion</th>\n",
       "      <th>Pleural Other</th>\n",
       "      <th>Pneumonia</th>\n",
       "      <th>Pneumothorax</th>\n",
       "      <th>Support Devices</th>\n",
       "    </tr>\n",
       "  </thead>\n",
       "  <tbody>\n",
       "    <tr>\n",
       "      <th>0</th>\n",
       "      <td>10000032</td>\n",
       "      <td>50414267</td>\n",
       "      <td>NaN</td>\n",
       "      <td>NaN</td>\n",
       "      <td>NaN</td>\n",
       "      <td>NaN</td>\n",
       "      <td>NaN</td>\n",
       "      <td>NaN</td>\n",
       "      <td>NaN</td>\n",
       "      <td>NaN</td>\n",
       "      <td>1.0</td>\n",
       "      <td>NaN</td>\n",
       "      <td>NaN</td>\n",
       "      <td>NaN</td>\n",
       "      <td>NaN</td>\n",
       "      <td>NaN</td>\n",
       "    </tr>\n",
       "  </tbody>\n",
       "</table>\n",
       "</div>"
      ],
      "text/plain": [
       "   subject_id  study_id  Atelectasis  Cardiomegaly  Consolidation  Edema  \\\n",
       "0    10000032  50414267          NaN           NaN            NaN    NaN   \n",
       "\n",
       "   Enlarged Cardiomediastinum  Fracture  Lung Lesion  Lung Opacity  \\\n",
       "0                         NaN       NaN          NaN           NaN   \n",
       "\n",
       "   No Finding  Pleural Effusion  Pleural Other  Pneumonia  Pneumothorax  \\\n",
       "0         1.0               NaN            NaN        NaN           NaN   \n",
       "\n",
       "   Support Devices  \n",
       "0              NaN  "
      ]
     },
     "execution_count": 6,
     "metadata": {},
     "output_type": "execute_result"
    }
   ],
   "source": [
    "labels_data = pd.read_csv('../real_data/mimic-cxr-2.0.0-chexpert.csv')\n",
    "labels_data.head(1)"
   ]
  },
  {
   "cell_type": "markdown",
   "metadata": {},
   "source": [
    "## 2. **Visual Encoders**\n",
    "\n"
   ]
  },
  {
   "cell_type": "code",
   "execution_count": 7,
   "metadata": {},
   "outputs": [],
   "source": [
    "# The data are unbalanced, therefore we need to implement a weighted sample or the weighted loss function:\n",
    "\n",
    "# from torch.utils.data import WeightedRandomSampler\n",
    "\n",
    "# # Calculate weights for each sample\n",
    "# weights = 1. / torch.tensor([class_counts[label] for label in labels], dtype=torch.float)\n",
    "# sampler = WeightedRandomSampler(weights, len(weights))\n",
    "\n",
    "# # Use this sampler in the DataLoader\n",
    "# dataloader = DataLoader(dataset, batch_size=32, sampler=sampler)\n",
    "\n",
    "\n",
    "######### We are trying to perform the weighted loss function first #########"
   ]
  },
  {
   "cell_type": "code",
   "execution_count": 9,
   "metadata": {},
   "outputs": [],
   "source": [
    "image_files = list_images('../real_data/files')\n",
    "image_labels_mapping = create_image_labels_mapping(image_files, labels_data, info_jpg)\n",
    "df = pd.DataFrame.from_dict(image_labels_mapping, orient='index').reset_index()\n",
    "df['dicom_id'] = df['index'].apply(lambda x: x.split('/')[-1].split('.')[0])\n",
    "split = pd.read_csv('../real_data/mimic-cxr-2.0.0-split.csv')\n",
    "\n",
    "# merge the two dataframes on subject_id and study_id\n",
    "df = pd.merge(df, split, on=['subject_id', 'study_id', 'dicom_id'], how = 'left')"
   ]
  },
  {
   "cell_type": "code",
   "execution_count": 10,
   "metadata": {},
   "outputs": [],
   "source": [
    "# create the train and test dataframes\n",
    "train_df = df[df['split'] == 'train']\n",
    "train_paths = train_df['index'].tolist()\n",
    "train_labels = train_df.iloc[:, 1:15].values.tolist()\n",
    "train_dict = create_image_labels_mapping(image_files, labels_data, info_jpg)"
   ]
  },
  {
   "cell_type": "code",
   "execution_count": 11,
   "metadata": {},
   "outputs": [],
   "source": [
    "test_df = df[df['split'] == 'test']\n",
    "test_paths = test_df['index'].tolist()\n",
    "test_labels = test_df.iloc[:, 1:15].values.tolist()\n",
    "test_dict = create_image_labels_mapping(image_files, labels_data, info_jpg)"
   ]
  },
  {
   "cell_type": "markdown",
   "metadata": {},
   "source": [
    "### 2.1. **ResNet** (CNN)"
   ]
  },
  {
   "cell_type": "code",
   "execution_count": 12,
   "metadata": {},
   "outputs": [
    {
     "name": "stdout",
     "output_type": "stream",
     "text": [
      "Posterior Anterior view:  torch.Size([3, 256, 256])\n",
      "Lateral view torch.Size([3, 256, 256])\n"
     ]
    }
   ],
   "source": [
    "# Define your transformations\n",
    "transform = transforms.Compose([\n",
    "    transforms.Resize((256, 256)),                                               # Resize images to the size expected by ResNet\n",
    "    transforms.ToTensor(),                                                       # Convert images to PyTorch tensors\n",
    "    transforms.Normalize(mean=[0.485, 0.456, 0.406], std=[0.229, 0.224, 0.225])  # Normalize with ImageNet mean and std\n",
    "])\n",
    "\n",
    "train_dataset = MedicalImagesDataset(train_dict, transform=transform)\n",
    "train_dataloader = DataLoader(train_dataset, batch_size=32, shuffle=True)  \n",
    "test_dataset = MedicalImagesDataset(test_dict, transform=transform)\n",
    "test_dataloader = DataLoader(test_dataset, batch_size=32, shuffle=True)\n",
    "\n",
    "# Iterate over batches of image,label pairs\n",
    "for i, (pa_images, lateral_images, labels) in enumerate(train_dataset):\n",
    "    print('Posterior Anterior view: ', pa_images.shape)\n",
    "    print('Lateral view', lateral_images.shape)\n",
    "    break"
   ]
  },
  {
   "cell_type": "code",
   "execution_count": 13,
   "metadata": {},
   "outputs": [
    {
     "data": {
      "image/png": "[encoded data removed]",
      "text/plain": [
       "<Figure size 640x480 with 1 Axes>"
      ]
     },
     "metadata": {},
     "output_type": "display_data"
    }
   ],
   "source": [
    "import torch\n",
    "from collections import Counter\n",
    "import matplotlib.pyplot as plt\n",
    "\n",
    "# class_counts = Counter()\n",
    "# for _, _, labels in dataloader:\n",
    "#     labels = torch.argmax(labels, dim=1)\n",
    "#     class_counts.update(labels.tolist())\n",
    "# print(class_counts)\n",
    "\n",
    "class_counts = {8: 452, 0: 173, 1: 77, 7: 68, 9: 27, 6: 17, 3: 17, \n",
    "                5: 16, 11: 14, 2: 14, 4: 9, 12: 7, 13: 3, 10: 2}\n",
    "\n",
    "# Plot the class distribution\n",
    "plt.bar(class_counts.keys(), class_counts.values())\n",
    "plt.xlabel('Class')\n",
    "plt.ylabel('Number of instances')\n",
    "plt.title('Class Distribution in Dataset')\n",
    "plt.show()"
   ]
  },
  {
   "cell_type": "markdown",
   "metadata": {},
   "source": [
    "By this distrbution we can see that the data is imbalanced. We will use the `class_weight` on the cross-entropy loss to account for this. <br>\n",
    "Other possibilities are: \n",
    "1. **Resampling Your Dataset**:\n",
    "Oversampling the Minority Class: Increase the number of instances of underrepresented classes in your training set. This can be done by duplicating existing instances or generating synthetic instances (e.g., using SMOTE).\n",
    "Undersampling the Majority Class: Reduce the number of instances of overrepresented classes.\n",
    "2. **Data Augmentation**:\n",
    "Apply data augmentation techniques to the minority class to create synthetic data points. This is especially useful in image and audio processing tasks.\n",
    "3. **Change the Evaluation Metric**:\n",
    "Use evaluation metrics like F1-score, precision-recall curve, ROC AUC, etc., which give a better sense of model performance on imbalanced datasets."
   ]
  },
  {
   "cell_type": "code",
   "execution_count": 14,
   "metadata": {},
   "outputs": [
    {
     "name": "stdout",
     "output_type": "stream",
     "text": [
      "The class weights are:  tensor([0.0022, 0.0058, 0.0130, 0.0147, 0.0370, 0.0588, 0.0588, 0.0625, 0.0714,\n",
      "        0.0714, 0.1111, 0.1429, 0.3333, 0.5000])\n"
     ]
    }
   ],
   "source": [
    "class_counts = {8: 452, 0: 173, 1: 77, 7: 68, 9: 27, 6: 17, 3: 17, \n",
    "                5: 16, 11: 14, 2: 14, 4: 9, 12: 7, 13: 3, 10: 2}\n",
    "class_weights = 1. / torch.tensor(list(class_counts.values()), dtype=torch.float)\n",
    "print('The class weights are: ', class_weights)\n",
    "\n",
    "model = DualInputModel(model='resnet50', num_classes=14)\n",
    "criterion = nn.CrossEntropyLoss(weight=class_weights)\n",
    "optimizer = optim.Adam(model.parameters(), lr=0.001)"
   ]
  },
  {
   "cell_type": "code",
   "execution_count": null,
   "metadata": {},
   "outputs": [],
   "source": [
    "import torch\n",
    "\n",
    "num_epochs = 2\n",
    "verbose = False\n",
    "\n",
    "def train_model(model, num_epochs, train_dataloader, criterion, optimizer, device, verbose = False):\n",
    "    model.to(device)\n",
    "    for epoch in range(num_epochs):\n",
    "        model.train()  \n",
    "        running_loss = 0.0\n",
    "        correct_predictions = 0\n",
    "        total_predictions = 0\n",
    "\n",
    "        for i, (x_pa, x_lateral, labels) in enumerate(train_dataloader):\n",
    "            # Forward pass\n",
    "            inputs = x_lateral.to(device), x_pa.to(device)\n",
    "            outputs = model(inputs[0], inputs[1])\n",
    "            loss = criterion(outputs, labels)\n",
    "\n",
    "            # Backward and optimize\n",
    "            optimizer.zero_grad()\n",
    "            loss.backward()\n",
    "            optimizer.step()\n",
    "\n",
    "            # Statistics\n",
    "            running_loss += loss.item()\n",
    "            _, predicted = torch.max(outputs, 1)\n",
    "            _, labels = torch.max(labels, 1)\n",
    "            if verbose:\n",
    "                print('Predicted: ', predicted, 'Labels: ', labels, 'Loss: ', loss.item())\n",
    "            correct_predictions += (predicted == labels).sum().item()\n",
    "            total_predictions += labels.size(0)\n",
    "\n",
    "        epoch_loss = running_loss / len(train_dataloader)\n",
    "        epoch_accuracy = 100 * correct_predictions / total_predictions\n",
    "\n",
    "        print(f'Epoch [{epoch+1}/{num_epochs}], Loss: {epoch_loss:.4f}, Accuracy: {epoch_accuracy:.2f}%')\n",
    "\n",
    "    return model\n",
    "\n",
    "def test_model(model, test_dataloader, device):\n",
    "    model.eval()\n",
    "    correct_predictions = 0\n",
    "    total_predictions = 0\n",
    "    with torch.no_grad():\n",
    "        for i, (x_pa, x_lateral, labels) in enumerate(test_dataloader):\n",
    "            inputs = x_lateral.to(device), x_pa.to(device)\n",
    "            labels = labels.to(device)\n",
    "            outputs = model(inputs[0], inputs[1])\n",
    "            _, predicted = torch.max(outputs, 1)\n",
    "            _, labels = torch.max(labels, 1)\n",
    "            correct_predictions += (predicted == labels).sum().item()\n",
    "            total_predictions += labels.size(0)\n",
    "\n",
    "        test_accuracy = 100 * correct_predictions / total_predictions\n",
    "        print(f'Test Accuracy: {test_accuracy:.2f}%')\n",
    "    \n",
    "    return test_accuracy, model\n",
    "\n",
    "device = torch.device('cuda' if torch.cuda.is_available() else 'cpu')\n",
    "model = train_model(model, num_epochs, train_dataloader, criterion, optimizer, device, verbose = False)\n",
    "model = test_model(model, test_dataloader, device)\n",
    "torch.save(model.state_dict(), 'model.pth')"
   ]
  },
  {
   "cell_type": "markdown",
   "metadata": {},
   "source": [
    "### 2.2. **DenseNet** (CNN)\n",
    "\n",
    "[GitHub link](https://github.com/liuzhuang13/DenseNet)\n",
    "\n",
    "[Huggingface link](https://huggingface.co/docs/timm/models/densenet)"
   ]
  },
  {
   "cell_type": "code",
   "execution_count": null,
   "metadata": {},
   "outputs": [],
   "source": [
    "# Define your transformations\n",
    "transform = transforms.Compose([\n",
    "    transforms.Resize((224, 224)),                                               # Resize images to the size expected by ResNet\n",
    "    transforms.ToTensor(),                                                       # Convert images to PyTorch tensors\n",
    "    transforms.Normalize(mean=[0.485, 0.456, 0.406], std=[0.229, 0.224, 0.225])  # Normalize with ImageNet mean and std\n",
    "])\n",
    "\n",
    "train_dataset = MedicalImagesDataset(train_dict, transform=transform)\n",
    "train_dataloader = DataLoader(train_dataset, batch_size=32, shuffle=True)  \n",
    "test_dataset = MedicalImagesDataset(test_dict, transform=transform)\n",
    "test_dataloader = DataLoader(test_dataset, batch_size=32, shuffle=True)\n",
    "\n",
    "# Iterate over batches of image,label pairs\n",
    "# for i, (pa_images, lateral_images, labels) in enumerate(train_dataset):\n",
    "#     print('Posterior Anterior view: ', pa_images.shape)\n",
    "#     print('Lateral view', lateral_images.shape)\n",
    "#     break"
   ]
  },
  {
   "cell_type": "markdown",
   "metadata": {},
   "source": [
    "The input of the images is 224x224x3 times 2 (frontal and lateral images). <br>\n",
    "The input of the labels is 1x14 features, with binary values (0 or 1). These are categorical features. <br>\n",
    "The output of the model is 1x14 features, with binary values (0 or 1). <br>\n",
    "\n"
   ]
  },
  {
   "cell_type": "code",
   "execution_count": null,
   "metadata": {},
   "outputs": [
    {
     "name": "stdout",
     "output_type": "stream",
     "text": [
      "The class weights are:  tensor([0.0022, 0.0058, 0.0130, 0.0147, 0.0370, 0.0588, 0.0588, 0.0625, 0.0714,\n",
      "        0.0714, 0.1111, 0.1429, 0.3333, 0.5000])\n"
     ]
    },
    {
     "ename": "TypeError",
     "evalue": "train_model() got an unexpected keyword argument 'verbose'",
     "output_type": "error",
     "traceback": [
      "\u001b[0;31m---------------------------------------------------------------------------\u001b[0m",
      "\u001b[0;31mTypeError\u001b[0m                                 Traceback (most recent call last)",
      "\u001b[1;32m/Users/silviaromanato/Desktop/EPFL/MA3/DeepLearning/biomed-team4/multimodal/biomed.ipynb Cella 20\u001b[0m line \u001b[0;36m1\n\u001b[1;32m     <a href='vscode-notebook-cell:/Users/silviaromanato/Desktop/EPFL/MA3/DeepLearning/biomed-team4/multimodal/biomed.ipynb#X26sZmlsZQ%3D%3D?line=9'>10</a>\u001b[0m optimizer \u001b[39m=\u001b[39m optim\u001b[39m.\u001b[39mAdam(model\u001b[39m.\u001b[39mparameters(), lr\u001b[39m=\u001b[39m\u001b[39m0.001\u001b[39m)\n\u001b[1;32m     <a href='vscode-notebook-cell:/Users/silviaromanato/Desktop/EPFL/MA3/DeepLearning/biomed-team4/multimodal/biomed.ipynb#X26sZmlsZQ%3D%3D?line=11'>12</a>\u001b[0m device \u001b[39m=\u001b[39m torch\u001b[39m.\u001b[39mdevice(\u001b[39m'\u001b[39m\u001b[39mcuda\u001b[39m\u001b[39m'\u001b[39m \u001b[39mif\u001b[39;00m torch\u001b[39m.\u001b[39mcuda\u001b[39m.\u001b[39mis_available() \u001b[39melse\u001b[39;00m \u001b[39m'\u001b[39m\u001b[39mcpu\u001b[39m\u001b[39m'\u001b[39m)\n\u001b[0;32m---> <a href='vscode-notebook-cell:/Users/silviaromanato/Desktop/EPFL/MA3/DeepLearning/biomed-team4/multimodal/biomed.ipynb#X26sZmlsZQ%3D%3D?line=12'>13</a>\u001b[0m train_model(model, num_epochs, train_dataloader, criterion, optimizer, device, verbose \u001b[39m=\u001b[39;49m \u001b[39mFalse\u001b[39;49;00m)\n\u001b[1;32m     <a href='vscode-notebook-cell:/Users/silviaromanato/Desktop/EPFL/MA3/DeepLearning/biomed-team4/multimodal/biomed.ipynb#X26sZmlsZQ%3D%3D?line=13'>14</a>\u001b[0m test_model(model, test_dataloader, device)\n\u001b[1;32m     <a href='vscode-notebook-cell:/Users/silviaromanato/Desktop/EPFL/MA3/DeepLearning/biomed-team4/multimodal/biomed.ipynb#X26sZmlsZQ%3D%3D?line=14'>15</a>\u001b[0m torch\u001b[39m.\u001b[39msave(model\u001b[39m.\u001b[39mstate_dict(), \u001b[39m'\u001b[39m\u001b[39mmodel.pth\u001b[39m\u001b[39m'\u001b[39m)\n",
      "\u001b[0;31mTypeError\u001b[0m: train_model() got an unexpected keyword argument 'verbose'"
     ]
    }
   ],
   "source": [
    "num_epochs = 2\n",
    "\n",
    "class_counts = {8: 452, 0: 173, 1: 77, 7: 68, 9: 27, 6: 17, 3: 17, \n",
    "                5: 16, 11: 14, 2: 14, 4: 9, 12: 7, 13: 3, 10: 2}\n",
    "class_weights = 1. / torch.tensor(list(class_counts.values()), dtype=torch.float)\n",
    "print('The class weights are: ', class_weights)\n",
    "\n",
    "model = DualInputModel(model='densenet121', num_classes=14)\n",
    "criterion = nn.CrossEntropyLoss(weight=class_weights)\n",
    "optimizer = optim.Adam(model.parameters(), lr=0.001)\n",
    "\n",
    "device = torch.device('cuda' if torch.cuda.is_available() else 'cpu')\n",
    "train_model(model, num_epochs, train_dataloader, criterion, optimizer, device, verbose = False)\n",
    "test_model(model, test_dataloader, device)\n",
    "torch.save(model.state_dict(), 'model.pth')"
   ]
  },
  {
   "cell_type": "markdown",
   "metadata": {},
   "source": [
    "### 2.3. **Vision Transformer** (ViT)"
   ]
  },
  {
   "cell_type": "code",
   "execution_count": null,
   "metadata": {},
   "outputs": [],
   "source": [
    "from transformers import ViTImageProcessor, ViTForImageClassification\n",
    "from PIL import Image\n",
    "import requests\n",
    "\n",
    "url = 'http://images.cocodataset.org/val2017/000000039769.jpg'\n",
    "image = Image.open(requests.get(url, stream=True).raw)\n",
    "\n",
    "processor = ViTImageProcessor.from_pretrained('google/vit-base-patch16-224')\n",
    "model = ViTForImageClassification.from_pretrained('google/vit-base-patch16-224')\n",
    "\n",
    "inputs = processor(images=image, return_tensors=\"pt\")\n",
    "outputs = model(**inputs)\n",
    "logits = outputs.logits\n",
    "# model predicts one of the 1000 ImageNet classes\n",
    "predicted_class_idx = logits.argmax(-1).item()\n",
    "print(\"Predicted class:\", model.config.id2label[predicted_class_idx])"
   ]
  }
 ],
 "metadata": {
  "kernelspec": {
   "display_name": "Python 3",
   "language": "python",
   "name": "python3"
  },
  "language_info": {
   "codemirror_mode": {
    "name": "ipython",
    "version": 3
   },
   "file_extension": ".py",
   "mimetype": "text/x-python",
   "name": "python",
   "nbconvert_exporter": "python",
   "pygments_lexer": "ipython3",
   "version": "3.9.18"
  }
 },
 "nbformat": 4,
 "nbformat_minor": 2
}
