{
 "cells": [
  {
   "cell_type": "markdown",
   "metadata": {},
   "source": [
    "\n",
    "\n",
    "## **Deep Learning in Biomedicine**\n",
    "#### **Final Project:** Classification of Chest X-ray Images and Patient Metadata Using Multi-Modal Model\n",
    "**Team 4**: Alexander Sternfeld, Silvia Romanato and Antoine Bonnet\n",
    "\n",
    "\n",
    "Here is a table with the models we will train:\n",
    "| Model | Vision | Tabular |\n",
    "| --- | --- | --- |\n",
    "| 1 | - | FCN | \n",
    "| 2 | ResNet50 (CNN) | FCN | \n",
    "| 3 | ResNet50 (CNN) | - |\n",
    "| 4 | DenseNet (CNN) | FCN | \n",
    "| 5 | DenseNet (CNN) | - | \n",
    "| 6 | Vision Transformer (ViT) | FCN | \n",
    "| 7 | Vision Transformer (ViT)| - | \n",
    "\n",
    "We use the same fully-connected network (FCN) for all models. \n",
    "\n"
   ]
  },
  {
   "cell_type": "code",
   "execution_count": null,
   "metadata": {},
   "outputs": [],
   "source": [
    "from multimodal.data import *\n",
    "from multimodal.utils import *"
   ]
  }
 ],
 "metadata": {
  "language_info": {
   "name": "python"
  }
 },
 "nbformat": 4,
 "nbformat_minor": 2
}
